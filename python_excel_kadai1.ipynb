{
  "nbformat": 4,
  "nbformat_minor": 0,
  "metadata": {
    "colab": {
      "provenance": []
    },
    "kernelspec": {
      "name": "python3",
      "display_name": "Python 3"
    },
    "language_info": {
      "name": "python"
    }
  },
  "cells": [
    {
      "cell_type": "code",
      "execution_count": 40,
      "metadata": {
        "id": "ifH_vHRvDG2Z"
      },
      "outputs": [],
      "source": [
        "import openpyxl\n",
        "\n",
        "#新規excewlファイルの作成　ファイル名がsample1.xlsx\n",
        "workbook = openpyxl.Workbook()"
      ]
    },
    {
      "cell_type": "code",
      "source": [
        "ws = workbook.active"
      ],
      "metadata": {
        "id": "Bf-JzVOnERRY"
      },
      "execution_count": 41,
      "outputs": []
    },
    {
      "cell_type": "code",
      "source": [
        "#各セルに固定データの値を入力\n",
        "ws['B2'].value = \"請求書\"\n",
        "ws[\"B4\"].value = \"株式会社ABC\"\n",
        "ws[\"B5\"].value = \"〒101-0022 東京都千代田区神田練塀町300\"\n",
        "ws[\"B6\"].value = \"TEL:03-1234-5678 FAX:03-1234-5678\"\n",
        "ws[\"B7\"].value = \"担当者名:鈴木一郎 様\"\n",
        "ws[\"F4\"].value = \"No.\"\n",
        "ws[\"G4\"].value = \"0001\"\n",
        "ws[\"F5\"].value = \"日付\""
      ],
      "metadata": {
        "id": "pfF8G0FGEUun"
      },
      "execution_count": 42,
      "outputs": []
    },
    {
      "cell_type": "code",
      "source": [
        "#G5に今日の日付を入力\n",
        "from datetime import date\n",
        "today=date.today()\n",
        "ws[\"G5\"] = today"
      ],
      "metadata": {
        "id": "qt_gRsh-EUxN"
      },
      "execution_count": 43,
      "outputs": []
    },
    {
      "cell_type": "code",
      "source": [
        "#データを読み込む\n",
        "#header=['商品名','数量','単価','金額']\n",
        "#sheet.append(header)\n",
        "data=[['商品名','数量','単価','金額'],\n",
        " ['商品A', 2, 10000, 20000],\n",
        "  ['商品B', 1, 15000, 15000]]\n",
        "for row in data:\n",
        "    sheet.append(row)"
      ],
      "metadata": {
        "id": "Q_yFlw_vHHiu"
      },
      "execution_count": 44,
      "outputs": []
    },
    {
      "cell_type": "code",
      "source": [
        "#dataをB10~E12の範囲に挿入したい\n",
        "start_row = 10\n",
        "start_col = 2  # B列は2番目の列\n",
        "\n",
        "for i, row in enumerate(data):\n",
        "    for j, value in enumerate(row):\n",
        "        ws.cell(row=start_row + i, column=start_col + j, value=value)"
      ],
      "metadata": {
        "id": "23lQYQvtHHlN"
      },
      "execution_count": 45,
      "outputs": []
    },
    {
      "cell_type": "code",
      "source": [
        "ws['B15'].value =\"小計\"\n",
        "ws['B16'].value = \"消費税\"\n",
        "ws['B17'].value = \"合計\""
      ],
      "metadata": {
        "id": "NJKIWyt_EU2T"
      },
      "execution_count": 47,
      "outputs": []
    },
    {
      "cell_type": "code",
      "source": [
        "ws[\"E13\"]=sum([ws[\"E11\"].value,ws[\"E12\"].value])\n",
        "ws[\"E15\"]=ws[\"E13\"].value\n",
        "ws[\"E16\"]=ws[\"E15\"].value*0.1\n",
        "ws[\"E17\"]=ws[\"E16\"].value+ws[\"E15\"].value"
      ],
      "metadata": {
        "id": "C3hX8fbOMiLH"
      },
      "execution_count": 51,
      "outputs": []
    },
    {
      "cell_type": "code",
      "source": [
        "workbook.save('請求書_20240712.xlsx')"
      ],
      "metadata": {
        "id": "FFcP71QtNTeV"
      },
      "execution_count": 52,
      "outputs": []
    }
  ]
}